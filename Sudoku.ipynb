{
 "cells": [
  {
   "cell_type": "code",
   "execution_count": 7,
   "id": "edb44414",
   "metadata": {},
   "outputs": [],
   "source": [
    "import pandas as pd\n",
    "import numpy as np\n",
    "import re"
   ]
  },
  {
   "cell_type": "code",
   "execution_count": 8,
   "id": "5eba39e3",
   "metadata": {},
   "outputs": [],
   "source": [
    "class Square:\n",
    "    def __init__(self, Parent, Value):\n",
    "        self.p = Parent\n",
    "        self.v = Value\n",
    "    \n",
    "    def Show(self):\n",
    "        print (\"Parent is : \", self.p)\n",
    "        print (\"Value is : \", self.v)\n",
    "        "
   ]
  },
  {
   "cell_type": "code",
   "execution_count": 9,
   "id": "3c1c58cc",
   "metadata": {},
   "outputs": [
    {
     "data": {
      "text/plain": [
       "array([[ 3.,  1., nan, nan, nan,  6., nan, nan, nan],\n",
       "       [ 7., nan,  2., nan, nan, nan,  9., nan,  1.],\n",
       "       [nan, nan,  9., nan, nan,  8., nan,  2., nan],\n",
       "       [nan,  9., nan, nan, nan,  3.,  2., nan,  6.],\n",
       "       [ 4., nan,  5.,  6., nan,  7.,  3., nan,  8.],\n",
       "       [ 6., nan,  7.,  8., nan, nan, nan,  4., nan],\n",
       "       [nan,  5., nan,  2., nan, nan,  8., nan, nan],\n",
       "       [ 2., nan,  6., nan, nan, nan,  1., nan,  4.],\n",
       "       [nan, nan, nan,  7., nan, nan, nan,  9.,  2.]])"
      ]
     },
     "execution_count": 9,
     "metadata": {},
     "output_type": "execute_result"
    }
   ],
   "source": [
    "df = pd.read_excel (r\"Sudoku.xlsx\")\n",
    "np_array = df.to_numpy()\n",
    "np_array"
   ]
  },
  {
   "cell_type": "code",
   "execution_count": 10,
   "id": "cea057e5",
   "metadata": {},
   "outputs": [],
   "source": [
    "for i in range(9):\n",
    "    for j in range (9):\n",
    "        globals()[f\"my_s_{i}{j}\"] = Square(None, np_array[i,j])"
   ]
  },
  {
   "cell_type": "code",
   "execution_count": 16,
   "id": "fcebd7b7",
   "metadata": {},
   "outputs": [
    {
     "name": "stdout",
     "output_type": "stream",
     "text": [
      "Parent is :  2\n",
      "Value is :  8.0\n"
     ]
    }
   ],
   "source": [
    "my_s_25.Show()"
   ]
  },
  {
   "cell_type": "code",
   "execution_count": 15,
   "id": "98bce031",
   "metadata": {},
   "outputs": [],
   "source": [
    "for i in [0,1,2]:      # Parent 1\n",
    "    for j in [0,1,2]:\n",
    "        globals()[f\"my_s_{i}{j}\"].p = 1 \n",
    "\n",
    "for i in [0,1,2]:      # Parent 2\n",
    "    for j in [3,4,5]:\n",
    "        globals()[f\"my_s_{i}{j}\"].p = 2 \n",
    "\n",
    "for i in [0,1,2]:      # Parent 3\n",
    "    for j in [6,7,8]:\n",
    "        globals()[f\"my_s_{i}{j}\"].p = 3 \n",
    "        \n",
    "for i in [3,4,5]:      # Parent 4\n",
    "    for j in [0,1,2]:\n",
    "        globals()[f\"my_s_{i}{j}\"].p = 4 \n",
    "\n",
    "for i in [3,4,5]:      # Parent 5\n",
    "    for j in [3,4,5]:\n",
    "        globals()[f\"my_s_{i}{j}\"].p = 5 \n",
    "\n",
    "for i in [3,4,5]:      # Parent 6\n",
    "    for j in [6,7,8]:\n",
    "        globals()[f\"my_s_{i}{j}\"].p = 6 \n",
    "        \n",
    "for i in [6,7,8]:      # Parent 7\n",
    "    for j in [0,1,2]:\n",
    "        globals()[f\"my_s_{i}{j}\"].p = 7 \n",
    "\n",
    "for i in [6,7,8]:      # Parent 8\n",
    "    for j in [3,4,5]:\n",
    "        globals()[f\"my_s_{i}{j}\"].p = 8 \n",
    "\n",
    "for i in [6,7,8]:      # Parent 9\n",
    "    for j in [6,7,8]:\n",
    "        globals()[f\"my_s_{i}{j}\"].p = 9 "
   ]
  },
  {
   "cell_type": "code",
   "execution_count": 17,
   "id": "8961db9d",
   "metadata": {},
   "outputs": [
    {
     "name": "stdout",
     "output_type": "stream",
     "text": [
      "Wall time: 1.1 s\n"
     ]
    },
    {
     "data": {
      "text/plain": [
       "array([[3., 1., 4., 9., 2., 6., 7., 8., 5.],\n",
       "       [7., 8., 2., 4., 3., 5., 9., 6., 1.],\n",
       "       [5., 6., 9., 1., 7., 8., 4., 2., 3.],\n",
       "       [1., 9., 8., 5., 4., 3., 2., 7., 6.],\n",
       "       [4., 2., 5., 6., 9., 7., 3., 1., 8.],\n",
       "       [6., 3., 7., 8., 1., 2., 5., 4., 9.],\n",
       "       [9., 5., 1., 2., 6., 4., 8., 3., 7.],\n",
       "       [2., 7., 6., 3., 8., 9., 1., 5., 4.],\n",
       "       [8., 4., 3., 7., 5., 1., 6., 9., 2.]])"
      ]
     },
     "execution_count": 17,
     "metadata": {},
     "output_type": "execute_result"
    }
   ],
   "source": [
    "%%time\n",
    "whileCheck = 0\n",
    "while whileCheck < 1000:\n",
    "    for i in range(9):\n",
    "        for j in range (9):\n",
    "            if not globals()[f\"my_s_{i}{j}\"].v > 0:\n",
    "                counter = 0\n",
    "                Last_k = 0\n",
    "                for k in range (1,10):\n",
    "                    selected_k = 0\n",
    "                    breaker = False \n",
    "                    for ii in range (9):\n",
    "                        for jj in range (9):\n",
    "                            if (globals()[f\"my_s_{ii}{jj}\"].p == globals()[f\"my_s_{i}{j}\"].p and globals()[f\"my_s_{ii}{jj}\"].v == k) or (globals()[f\"my_s_{ii}{j}\"].v == k) or (globals()[f\"my_s_{i}{jj}\"].v == k):    \n",
    "                                breaker = True\n",
    "                                selected_k = 0\n",
    "                                break\n",
    "                            else:\n",
    "                                selected_k = k\n",
    "                                \n",
    "                        if breaker: \n",
    "                            break   \n",
    "                            \n",
    "                    if selected_k != 0:\n",
    "                        counter += 1\n",
    "                        Last_k = selected_k\n",
    "                        \n",
    "\n",
    "                if counter == 1 and not selected_k != 0 and Last_k != 0:  \n",
    "                    globals()[f\"my_s_{i}{j}\"].v = Last_k\n",
    "                    \n",
    "    for par in range (1,10): \n",
    "        parCount = 0\n",
    "        for i in range(9):\n",
    "            for j in range (9):\n",
    "                if globals()[f\"my_s_{i}{j}\"].p == par:\n",
    "                    if not globals()[f\"my_s_{i}{j}\"].v > 0:\n",
    "                        parCount += 1\n",
    "        if parCount == 1:\n",
    "            myList = []\n",
    "            for i2 in range(9):\n",
    "                for j2 in range (9):\n",
    "                    if globals()[f\"my_s_{i2}{j2}\"].p == par and not globals()[f\"my_s_{i2}{j2}\"].v > 0:\n",
    "                        emptyCell_i = i2\n",
    "                        emptyCell_j = j2\n",
    "                    elif globals()[f\"my_s_{i2}{j2}\"].p == par and globals()[f\"my_s_{i2}{j2}\"].v > 0:\n",
    "                        myList.append(globals()[f\"my_s_{i2}{j2}\"].v)\n",
    "            for answer in range(1,10):\n",
    "                 if not myList.__contains__(answer):\n",
    "                        globals()[f\"my_s_{emptyCell_i}{emptyCell_j}\"].v = answer\n",
    "                        \n",
    "    for i in range(9):\n",
    "        rowCount = 0\n",
    "        for j in range (9):\n",
    "            if not globals()[f\"my_s_{i}{j}\"].v > 0:\n",
    "                rowCount += 1\n",
    "        if rowCount == 1:\n",
    "            myList_row = []\n",
    "            for j2 in range (9):\n",
    "                if not globals()[f\"my_s_{i}{j2}\"].v > 0:\n",
    "                    emptyCell_i = i\n",
    "                    emptyCell_j = j2\n",
    "                elif globals()[f\"my_s_{i}{j2}\"].v > 0:\n",
    "                    myList_row.append(globals()[f\"my_s_{i}{j2}\"].v)\n",
    "            for answer in range(1,10):\n",
    "                 if not myList_row.__contains__(answer):\n",
    "                        globals()[f\"my_s_{emptyCell_i}{emptyCell_j}\"].v = answer\n",
    "\n",
    "                \n",
    "    for j in range(9):\n",
    "        colCount = 0\n",
    "        for i in range (9):\n",
    "            if not globals()[f\"my_s_{i}{j}\"].v > 0:\n",
    "                colCount += 1\n",
    "        if colCount == 1:\n",
    "            myList_col = []\n",
    "            for i2 in range (9):\n",
    "                if not globals()[f\"my_s_{i2}{j}\"].v > 0:\n",
    "                    emptyCell_i = i2\n",
    "                    emptyCell_j = j\n",
    "                elif globals()[f\"my_s_{i2}{j}\"].v > 0:\n",
    "                    myList_col.append(globals()[f\"my_s_{i2}{j}\"].v)\n",
    "            for answer in range(1,10):\n",
    "                 if not myList_col.__contains__(answer):\n",
    "                        globals()[f\"my_s_{emptyCell_i}{emptyCell_j}\"].v = answer\n",
    "\n",
    "    whileCheck +=1\n",
    "    \n",
    "result_np = np.zeros((9, 9))\n",
    "\n",
    "for i in range(9):\n",
    "    for j in range (9):\n",
    "        result_np[i,j] = globals()[f\"my_s_{i}{j}\"].v\n",
    "        \n",
    "result_np"
   ]
  },
  {
   "cell_type": "code",
   "execution_count": null,
   "id": "10f331dd",
   "metadata": {},
   "outputs": [],
   "source": []
  }
 ],
 "metadata": {
  "kernelspec": {
   "display_name": "Python 3",
   "language": "python",
   "name": "python3"
  },
  "language_info": {
   "codemirror_mode": {
    "name": "ipython",
    "version": 3
   },
   "file_extension": ".py",
   "mimetype": "text/x-python",
   "name": "python",
   "nbconvert_exporter": "python",
   "pygments_lexer": "ipython3",
   "version": "3.8.8"
  }
 },
 "nbformat": 4,
 "nbformat_minor": 5
}
